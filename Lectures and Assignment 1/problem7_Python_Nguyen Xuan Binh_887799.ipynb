{
 "cells": [
  {
   "cell_type": "markdown",
   "id": "6593f45d",
   "metadata": {},
   "source": [
    "# Assignment 1 Problem 7 [student ID number]"
   ]
  },
  {
   "cell_type": "markdown",
   "id": "bc63d6fd",
   "metadata": {},
   "source": [
    "## One kiosk simulation model"
   ]
  },
  {
   "cell_type": "code",
   "execution_count": 1,
   "id": "f39d9e3b",
   "metadata": {},
   "outputs": [],
   "source": [
    "##\n",
    "# generate interarrival times\n",
    "##\n",
    "\n",
    "##\n",
    "# generate arrival times using the interarrival times\n",
    "##\n",
    "\n",
    "##\n",
    "# generate service times\n",
    "##\n",
    "\n",
    "##\n",
    "# generate start times and completion times in the same loop\n",
    "##\n"
   ]
  },
  {
   "cell_type": "markdown",
   "id": "3b97d581",
   "metadata": {},
   "source": [
    "## Answer to part a)\n",
    "#### Enter the code in the cell directly below"
   ]
  },
  {
   "cell_type": "code",
   "execution_count": null,
   "id": "0b5035f4",
   "metadata": {},
   "outputs": [],
   "source": []
  },
  {
   "cell_type": "markdown",
   "id": "97c96fe0",
   "metadata": {},
   "source": [
    "## Answer to part b)\n",
    "#### Enter the code in the cell directly below"
   ]
  },
  {
   "cell_type": "code",
   "execution_count": null,
   "id": "31d64288",
   "metadata": {},
   "outputs": [],
   "source": []
  },
  {
   "cell_type": "markdown",
   "id": "31303b78",
   "metadata": {},
   "source": [
    "## Two kiosk simulation model"
   ]
  },
  {
   "cell_type": "code",
   "execution_count": null,
   "id": "92feb6af",
   "metadata": {},
   "outputs": [],
   "source": [
    "##\n",
    "# generate interarrival times (same as in one kiosk model)\n",
    "##\n",
    "\n",
    "##\n",
    "# generate arrival times using the interarrival times (same as in one kiosk model)\n",
    "##\n",
    "\n",
    "##\n",
    "# generate service times (same as in one kiosk model)\n",
    "##\n",
    "\n",
    "##\n",
    "# generate start times and completion times in the same loop\n",
    "# generate vectors that indicate when each kiosk becomes available\n",
    "##\n"
   ]
  },
  {
   "cell_type": "markdown",
   "id": "a530b0e5",
   "metadata": {},
   "source": [
    "## Answer to part c)\n",
    "#### Enter the code in the cell directly below"
   ]
  },
  {
   "cell_type": "code",
   "execution_count": null,
   "id": "fb6db8a0",
   "metadata": {},
   "outputs": [],
   "source": []
  }
 ],
 "metadata": {
  "kernelspec": {
   "display_name": "Python 3 (ipykernel)",
   "language": "python",
   "name": "python3"
  },
  "language_info": {
   "codemirror_mode": {
    "name": "ipython",
    "version": 3
   },
   "file_extension": ".py",
   "mimetype": "text/x-python",
   "name": "python",
   "nbconvert_exporter": "python",
   "pygments_lexer": "ipython3",
   "version": "3.7.9"
  }
 },
 "nbformat": 4,
 "nbformat_minor": 5
}
