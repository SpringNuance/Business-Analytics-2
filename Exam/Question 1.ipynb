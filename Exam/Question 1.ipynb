{
 "cells": [
  {
   "cell_type": "markdown",
   "metadata": {},
   "source": [
    "1. A certain optimization problem has a convex objective function and its decision variables are integer valued. Such an optimization problem is classified as a convex problem.\n",
    "\n",
    "This statement is false. Even if the objective function is convex, the requirement for decision variables to be integer-valued (integral constraints) makes the problem a Mixed-Integer Convex Problem, not a pure convex problem, because convex problems assume continuous variables.\n",
    "\n",
    "2. The Expected Value of Sample Information (EVSI) cannot be larger than the Expected Value of Perfect Information (EVPI).\n",
    "\n",
    "This statement is true. EVPI represents the maximum value that perfect information could provide, thus setting an upper limit on the value of any sample information (EVSI).\n",
    "\n",
    "3. The Law of Total Probability relates marginal probabilities to conditional probabilities.\n",
    "\n",
    "This statement is true. The Law of Total Probability connects the total probability of an outcome to the sum of probabilities of that outcome given each condition in a partition of the sample space.\n",
    "\n",
    "4. Multiattribute Value Theory (MAVT) always assigns equal weights to all attributes.\n",
    "\n",
    "This statement is false. MAVT does not inherently assign equal weights to all attributes; weights are assigned based on the importance or preference of the decision-maker regarding each attribute.\n",
    "\n",
    "5. The independence axiom of Expected Utility Theory (EUT) is based on empirical observations of how people will choose in different situations.\n",
    "\n",
    "This statement is false. The independence axiom of EUT is a normative principle, not necessarily derived from empirical observations. It's often critiqued for not accurately reflecting actual human decision-making, which can deviate from rational standards due to biases.\n",
    "\n",
    "6. If X dominates Y in the sense of First-degree Stochastic Dominance and Y dominates Z in the sense of First-degree Stochastic Dominance, then Z dominates X in the sense of First-degree Stochastic Dominance.\n",
    "\n",
    "This statement is false. Stochastic dominance implies a transitive relation, but the described relation is incorrect. If X dominates Y and Y dominates Z, it does not imply Z dominates X but rather X should dominate Z.\n",
    "\n",
    "7. The Conditional Value-at-Risk measure CVaRα[X] describes the expected value of random variable X on the condition that this value is lower than or equal to VaRα[X].\n",
    "\n",
    "This statement is true. CVaRα[X] (Conditional Value-at-Risk) indeed represents the expected loss given that the loss is beyond (worse than) the VaRα[X] threshold, not lower than or equal to it. The phrasing might seem a bit misleading, but the essence captures CVaR's focus on the tail beyond the VaR threshold.\n",
    "\n",
    "8. A decision maker with a strictly convex utility function is classified as risk-seeking in the sense of Expected Utility Theory.\n",
    "\n",
    "This statement is true. A strictly convex utility function implies that the decision-maker derives more utility from uncertain prospects than from a certain prospect with the same expected value, indicating risk-seeking behavior.\n",
    "\n",
    "9. If X dominates Y in the sense of First-degree Stochastic Dominance, then the cumulative distribution function of X can be strictly above the cumulative distribution function of Y at some points.\n",
    "\n",
    "This statement is false. In the case of First-degree Stochastic Dominance, the cumulative distribution function (CDF) of X would be to the left of or equal to the CDF of Y at all points, not strictly above.\n",
    "\n",
    "10. For a decision maker with a linear utility function, the certainty equivalent of a random variable equals the expected value of the random variable.\n",
    "\n",
    "This statement is true. A linear utility function indicates risk neutrality, where the decision maker is indifferent between a certain outcome and an uncertain one with the same expected value.\n",
    "\n",
    "11. The cumulative distribution function FX(x) denotes the probability that the value of random variable X is greater than or equal to x.\n",
    "\n",
    "This statement is false. The CDF actually represents the probability that the random variable X is less than or equal to x.\n",
    "\n",
    "12. Value-at-Risk 10% for a normally distributed random variable does not depend on the mean of the random variable, only on its variance.\n",
    "\n",
    "This statement is false. The Value-at-Risk (VaR) for a normally distributed random variable depends on both its mean and its variance, as VaR is calculated using the distribution's standard deviation (which involves variance) and its mean to determine the cutoff point below which 10% of outcomes fall."
   ]
  }
 ],
 "metadata": {
  "kernelspec": {
   "display_name": "Python 3",
   "language": "python",
   "name": "python3"
  },
  "language_info": {
   "name": "python",
   "version": "3.12.2"
  }
 },
 "nbformat": 4,
 "nbformat_minor": 2
}
