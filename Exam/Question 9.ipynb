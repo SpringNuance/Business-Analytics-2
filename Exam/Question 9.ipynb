{
 "cells": [
  {
   "cell_type": "markdown",
   "metadata": {},
   "source": [
    "### Question 9\n",
    "\n",
    "Consider a random variable X\n",
    "  with the following distribution:\n",
    "\n",
    "value:\t5.7\t3.9\t5.8\t17.1\t11.9\t17.6\t10.8\t18.2\t19.4\t15.6\n",
    "\n",
    "probability:\t0.1\t0.1\t0.1\t0.1\t0.15\t0.05\t0.1\t0.12\t0.1\t0.08\n",
    "\n",
    "What is the value of CVaR 30% [X] ? Report your answer using two decimals.\n",
    "\n",
    "Note: only one try is possible in this problem.\n",
    "\n",
    "Definition\n",
    "\n",
    "Conditional Value-At-Risk: CVaR α [X]\n",
    "- Describes the expected outcome when the outcome is equal to or worse than\n",
    "VaR α [X]:\n",
    "\n",
    "CVaR α [X] = E [X | X <= VaR α [X]]\n",
    "- Higher CVaR means smaller risk"
   ]
  },
  {
   "cell_type": "code",
   "execution_count": 7,
   "metadata": {},
   "outputs": [
    {
     "name": "stdout",
     "output_type": "stream",
     "text": [
      "The sorted values are: [ 3.9  5.7  5.8 10.8 11.9 15.6 17.1 17.6 18.2 19.4]\n",
      "The sorted probabilities are: [0.1  0.1  0.1  0.1  0.15 0.08 0.1  0.05 0.12 0.1 ]\n",
      "The cumulative probabilities are: [0.1  0.2  0.3  0.4  0.55 0.63 0.73 0.78 0.9  1.  ]\n",
      "The VaR at 30% is: 5.8\n",
      "The values below the VaR are: [3.9 5.7 5.8]\n",
      "The probabilities of the values below the VaR are: [0.1 0.1 0.1]\n",
      "Normalized probabilities of the values below the VaR are: [0.33333333 0.33333333 0.33333333]\n"
     ]
    },
    {
     "data": {
      "text/plain": [
       "5.133333333333333"
      ]
     },
     "execution_count": 7,
     "metadata": {},
     "output_type": "execute_result"
    }
   ],
   "source": [
    "import numpy as np\n",
    "\n",
    "values = np.array([5.7, 3.9, 5.8, 17.1, 11.9, 17.6, 10.8, 18.2, 19.4, 15.6])\n",
    "probabilities = np.array([0.1, 0.1, 0.1, 0.1, 0.15, 0.05, 0.1, 0.12, 0.1, 0.08])\n",
    "\n",
    "alpha = 0.3\n",
    "sorted_indices = np.argsort(values)\n",
    "sorted_values = values[sorted_indices]\n",
    "sorted_probabilities = probabilities[sorted_indices]\n",
    "\n",
    "cumulative_probabilities = np.cumsum(sorted_probabilities)\n",
    "var_index = np.where(cumulative_probabilities >= alpha)[0][0]\n",
    "VaR_30 = sorted_values[var_index]\n",
    "\n",
    "# Find the mean of all values <= VaR.\n",
    "\n",
    "print(\"The sorted values are:\", sorted_values)\n",
    "print(\"The sorted probabilities are:\", sorted_probabilities)\n",
    "print(\"The cumulative probabilities are:\", cumulative_probabilities)\n",
    "print(\"The VaR at 30% is:\", VaR_30)\n",
    "\n",
    "below_var_indices = np.where(sorted_values <= VaR_30)[0]\n",
    "below_var_values = sorted_values[below_var_indices]\n",
    "below_var_probabilities = sorted_probabilities[below_var_indices]\n",
    "\n",
    "print(\"The values below the VaR are:\", below_var_values)\n",
    "print(\"The probabilities of the values below the VaR are:\", below_var_probabilities)\n",
    "\n",
    "below_var_probabilities /= below_var_probabilities.sum()\n",
    "\n",
    "print(\"Normalized probabilities of the values below the VaR are:\", below_var_probabilities)\n",
    "\n",
    "CVaR_30 = np.sum(below_var_values * below_var_probabilities)\n",
    "\n",
    "print(CVaR_30)"
   ]
  }
 ],
 "metadata": {
  "kernelspec": {
   "display_name": "Python 3",
   "language": "python",
   "name": "python3"
  },
  "language_info": {
   "codemirror_mode": {
    "name": "ipython",
    "version": 3
   },
   "file_extension": ".py",
   "mimetype": "text/x-python",
   "name": "python",
   "nbconvert_exporter": "python",
   "pygments_lexer": "ipython3",
   "version": "3.12.2"
  }
 },
 "nbformat": 4,
 "nbformat_minor": 2
}
