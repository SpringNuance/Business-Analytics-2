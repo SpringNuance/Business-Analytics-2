{
 "cells": [
  {
   "cell_type": "markdown",
   "metadata": {},
   "source": [
    "### Question 8\n",
    "\n",
    "Consider random variable X\n",
    " with the following probability distribution:\n",
    "\n",
    "value:\t6.2\t6.3\t5.2\t18.4\t15.2\t12.6\t13.6\t16.9\t19.9\t13.6\n",
    "\n",
    "probability:\t0.1\t0.1\t0.1\t0.1\t0.15\t0.05\t0.1\t0.12\t0.1\t0.08\n",
    "\n",
    "What is the value of Var 30% [X] ? \n",
    "\n",
    "Use one decimal in your answer.\n",
    "Note: only one try is possible in this problem.\n",
    "\n",
    "Value-At-Risk: VaR α [X] describes an outcome such that\n",
    "probability of an equal or worse outcome is α:\n",
    "\n",
    "$\\int_{-\\infty}^{VaR_\\alpha[X]} f_X(t)dt = F_X(VaR_\\alpha[X]) = \\alpha$\n",
    "\n",
    "- Higher VaR means smaller risk"
   ]
  },
  {
   "cell_type": "code",
   "execution_count": 4,
   "metadata": {},
   "outputs": [
    {
     "name": "stdout",
     "output_type": "stream",
     "text": [
      "The sorted values are: [ 5.2  6.2  6.3 12.6 13.6 13.6 15.2 16.9 18.4 19.9]\n",
      "The sorted probabilities are: [0.1  0.1  0.1  0.05 0.1  0.08 0.15 0.12 0.1  0.1 ]\n",
      "The cumulative probabilities are: [0.1  0.2  0.3  0.35 0.45 0.53 0.68 0.8  0.9  1.  ]\n",
      "(array([2, 3, 4, 5, 6, 7, 8, 9], dtype=int64),)\n"
     ]
    },
    {
     "data": {
      "text/plain": [
       "6.3"
      ]
     },
     "execution_count": 4,
     "metadata": {},
     "output_type": "execute_result"
    }
   ],
   "source": [
    "import numpy as np\n",
    "\n",
    "values = np.array([6.2, 6.3, 5.2, 18.4, 15.2, 12.6, 13.6, 16.9, 19.9, 13.6])\n",
    "probabilities = np.array([0.1, 0.1, 0.1, 0.1, 0.15, 0.05, 0.1, 0.12, 0.1, 0.08])\n",
    "\n",
    "sorted_indices = np.argsort(values)\n",
    "sorted_values = values[sorted_indices]\n",
    "sorted_probabilities = probabilities[sorted_indices]\n",
    "\n",
    "print(\"The sorted values are:\", sorted_values)\n",
    "print(\"The sorted probabilities are:\", sorted_probabilities)\n",
    "\n",
    "cumulative_probabilities = np.cumsum(sorted_probabilities)\n",
    "\n",
    "alpha = 0.3\n",
    "\n",
    "print(\"The cumulative probabilities are:\", cumulative_probabilities)\n",
    "print(np.where(cumulative_probabilities >= alpha))\n",
    "VaR_index = np.where(cumulative_probabilities >= alpha)[0][0]\n",
    "VaR_30 = sorted_values[VaR_index]\n",
    "\n",
    "print(VaR_30)\n"
   ]
  }
 ],
 "metadata": {
  "kernelspec": {
   "display_name": "Python 3",
   "language": "python",
   "name": "python3"
  },
  "language_info": {
   "codemirror_mode": {
    "name": "ipython",
    "version": 3
   },
   "file_extension": ".py",
   "mimetype": "text/x-python",
   "name": "python",
   "nbconvert_exporter": "python",
   "pygments_lexer": "ipython3",
   "version": "3.12.2"
  }
 },
 "nbformat": 4,
 "nbformat_minor": 2
}
