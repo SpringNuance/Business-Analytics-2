{
 "cells": [
  {
   "cell_type": "markdown",
   "metadata": {},
   "source": [
    "### Part a\n",
    "\n",
    "(a) Consider first a retailer that is not using blockchain. Their consumer demand is stochastic and freshness-dependent: $D = \\lambda + \\beta X+ \\epsilon$, where $\\lambda$ is a baseline level of demand, $\\beta$ is sensitivity of demand to freshness, and $X$ and $\\epsilon$ are independent normally distributed random variables, such that $X \\sim \\mathcal{N}(0, \\sigma_X^2)$ and $\\epsilon \\sim \\mathcal{N}(0, \\sigma^2)$. The variable $\\epsilon$ describes an idiosyncratic demand shock and the variable $X$ describes uncertain freshness of supply. For simplicity the variable X is mean-centred at zero.\n",
    "\n",
    "Assume that the baseline level of demand is $\\lambda = 357.46$ kg, sensitivity is $\\beta = 82.38$ kg/day, and $\\sigma=44.72$ and $\\sigma_X=0.6509$. \n",
    "\n",
    "Assume also that the retailer buys its stock with wholesale price 1 eur/kg and sells it with retail price 3 eur/kg. There is no salvage value with the stock that is unsold. The retailer is risk-neutral and maximises profit. Use the model to answer the following questions: what is the optimal level of fresh food to stock, and what is the associated expected profit with that level?\n"
   ]
  },
  {
   "cell_type": "code",
   "execution_count": 4,
   "metadata": {},
   "outputs": [],
   "source": [
    "import numpy as np\n",
    "np.random.seed(1)  "
   ]
  },
  {
   "cell_type": "code",
   "execution_count": 20,
   "metadata": {},
   "outputs": [
    {
     "name": "stdout",
     "output_type": "stream",
     "text": [
      "Best stock level (no blockchain): 354 kg\n",
      "Expected profit (no blockchain): 301.81 euros\n"
     ]
    }
   ],
   "source": [
    "lambda_ = 357.46  # Baseline demand\n",
    "beta = 82.38  # Sensitivity of demand to freshness\n",
    "sigma = 44.72  # Std of demand shock\n",
    "sigma_X = 0.6509  # Std of freshness\n",
    "wholesale_buying_price = 1  # EUR/kg\n",
    "retail_selling_price = 3  # EUR/kg\n",
    "\n",
    "def demand(X, epsilon):\n",
    "    return lambda_ + beta * X + epsilon\n",
    "\n",
    "def profit(stock_level, demands):\n",
    "    sales = np.minimum(demands, stock_level)\n",
    "    return np.mean((retail_selling_price - wholesale_buying_price) * sales - \n",
    "                   wholesale_buying_price * stock_level)\n",
    "\n",
    "# Simulation\n",
    "N = 200000\n",
    "optimal_stock_level_noblockchain = 0\n",
    "max_expected_profit_noblockchain = -np.inf\n",
    "\n",
    "stock_levels = np.arange(1, 1000, 1) \n",
    "\n",
    "\n",
    "for stock_level in stock_levels:\n",
    "    X = np.random.normal(0, sigma_X, N)\n",
    "    epsilon = np.random.normal(0, sigma, N)\n",
    "    demands = demand(X, epsilon)\n",
    "    current_profit = profit(stock_level, demands)\n",
    "    if current_profit > max_expected_profit_noblockchain:\n",
    "        max_expected_profit_noblockchain = current_profit\n",
    "        optimal_stock_level_noblockchain = stock_level\n",
    "\n",
    "print(f\"Best stock level (no blockchain): {optimal_stock_level_noblockchain} kg\")\n",
    "print(f\"Expected profit (no blockchain): {max_expected_profit_noblockchain:.2f} euros\")"
   ]
  },
  {
   "cell_type": "markdown",
   "metadata": {},
   "source": [
    "### Part b\n",
    "\n",
    "Now consider a Blockchain retailer who receives freshness information, i.e. knows the realisation  $X=x$ before ordering. Note that even in this case the supply order may not match demand because of the component $\\epsilon$ whose realisation is not observed before decision making. Use the model to answer the following questions: What is the improvement in expected profit with a retailer that is using Blockchain? How much less food waste is produced?\n",
    "\n",
    "Hint: simulate values of $X$ and $\\epsilon$ to calculate demand. The retailer can only profit from the stock that is sold, i.e. overage stock is costly but does not contribute to profit. The problem is similar to the hotel room optimisation problem from Assignment 1."
   ]
  },
  {
   "cell_type": "code",
   "execution_count": 22,
   "metadata": {},
   "outputs": [
    {
     "name": "stdout",
     "output_type": "stream",
     "text": [
      "Expected profit (no blockchain): 301.81 euros\n",
      "Expected profit (with blockchain): 321.56 euros\n",
      "Improvement in expected profit with Blockchain: 19.75 euros\n"
     ]
    }
   ],
   "source": [
    "lambda_ = 357.46  # Baseline demand\n",
    "beta = 82.38  # Sensitivity of demand to freshness\n",
    "sigma = 44.72  # Std of demand shock\n",
    "sigma_X = 0.6509  # Std of freshness\n",
    "wholesale_buying_price = 1  # EUR/kg\n",
    "retail_selling_price = 3  # EUR/kg\n",
    "\n",
    "def profit_with_known_X(stock_level, X, epsilon):\n",
    "    demands = lambda_ + beta * X + epsilon\n",
    "    sales = np.minimum(demands, stock_level)\n",
    "    return np.mean((retail_selling_price - wholesale_buying_price) * sales - \n",
    "                   wholesale_buying_price * stock_level)\n",
    "\n",
    "# Simulation\n",
    "N = 10000 \n",
    "expected_profits = []\n",
    "\n",
    "X_sims = np.random.normal(0, sigma_X, N)\n",
    "epsilon_sims = np.random.normal(0, sigma, N)\n",
    "stock_levels = np.arange(200, 500, 1) \n",
    "\n",
    "for X in X_sims:\n",
    "    optimal_stock_level_X = 0\n",
    "    max_expected_profit_X = -np.inf\n",
    "    for stock_level in stock_levels:\n",
    "        current_profit = profit_with_known_X(stock_level, X, epsilon_sims)\n",
    "        if current_profit > max_expected_profit_X:\n",
    "            max_expected_profit_X = current_profit\n",
    "            optimal_stock_level_X = stock_level\n",
    "    expected_profits.append(max_expected_profit_X)\n",
    "\n",
    "average_expected_profit_blockchain = np.mean(expected_profits)\n",
    "\n",
    "improvement_in_profit = average_expected_profit_blockchain - max_expected_profit_noblockchain\n",
    "\n",
    "print(f\"Expected profit (no blockchain): {max_expected_profit_noblockchain:.2f} euros\")\n",
    "print(f\"Expected profit (with blockchain): {average_expected_profit_blockchain:.2f} euros\")\n",
    "print(f\"Improvement in expected profit with Blockchain: {improvement_in_profit:.2f} euros\")"
   ]
  },
  {
   "cell_type": "code",
   "execution_count": 27,
   "metadata": {},
   "outputs": [
    {
     "name": "stdout",
     "output_type": "stream",
     "text": [
      "Average unsold stock (no blockchain): 16.20 kg\n",
      "Average unsold stock (with blockchain): 0.42 kg\n",
      "Reduction in food waste with Blockchain: 15.79 kg\n"
     ]
    }
   ],
   "source": [
    "lambda_ = 357.46  # Baseline demand\n",
    "beta = 82.38  # Sensitivity of demand to freshness\n",
    "sigma = 44.72  # Std of demand shock\n",
    "sigma_X = 0.6509  # Std of freshness\n",
    "wholesale_buying_price = 1  # EUR/kg\n",
    "retail_selling_price = 3  # EUR/kg\n",
    "\n",
    "def demand(X, epsilon):\n",
    "    return lambda_ + beta * X + epsilon\n",
    "\n",
    "N = 200000 \n",
    "\n",
    "X_sims = np.random.normal(0, sigma_X, N)\n",
    "epsilon_sims = np.random.normal(0, sigma, N)\n",
    "\n",
    "unsold_stock_noblockchain = []\n",
    "unsold_stock_blockchain = []\n",
    "\n",
    "stock_levels = np.arange(200, 500, 1)  \n",
    "\n",
    "# Unsold stock (no blockchain)\n",
    "for i in range(N):\n",
    "    d = demand(0, epsilon_sims[i])  # X is 0 because we do not know the freshness\n",
    "    unsold_stock_noblockchain.append(max(0, optimal_stock_level_noblockchain - d))\n",
    "\n",
    "# Unsold stock (with blockchain)\n",
    "for i in range(N):\n",
    "    X = X_sims[i]\n",
    "    optimal_stock_level_X = 0\n",
    "    max_expected_profit_X = -np.inf\n",
    "    for stock_level in stock_levels:\n",
    "        d = demand(X, epsilon_sims[i]) \n",
    "        profit = (3 - 1) * min(stock_level, d) - 1 * stock_level\n",
    "        if profit > max_expected_profit_X:\n",
    "            max_expected_profit_X = profit\n",
    "            optimal_stock_level_X = stock_level\n",
    "    d = demand(X, epsilon_sims[i])\n",
    "    unsold_stock_blockchain.append(max(0, optimal_stock_level_X - d))\n",
    "\n",
    "average_unsold_noblockchain = np.mean(unsold_stock_noblockchain)\n",
    "average_unsold_blockchain = np.mean(unsold_stock_blockchain)\n",
    "food_waste_reduction = average_unsold_noblockchain - average_unsold_blockchain\n",
    "\n",
    "print(f\"Average unsold stock (no blockchain): {average_unsold_noblockchain:.2f} kg\")\n",
    "print(f\"Average unsold stock (with blockchain): {average_unsold_blockchain:.2f} kg\")\n",
    "print(f\"Reduction in food waste with Blockchain: {food_waste_reduction:.2f} kg\")\n"
   ]
  }
 ],
 "metadata": {
  "kernelspec": {
   "display_name": "Python 3",
   "language": "python",
   "name": "python3"
  },
  "language_info": {
   "codemirror_mode": {
    "name": "ipython",
    "version": 3
   },
   "file_extension": ".py",
   "mimetype": "text/x-python",
   "name": "python",
   "nbconvert_exporter": "python",
   "pygments_lexer": "ipython3",
   "version": "3.12.2"
  }
 },
 "nbformat": 4,
 "nbformat_minor": 2
}
