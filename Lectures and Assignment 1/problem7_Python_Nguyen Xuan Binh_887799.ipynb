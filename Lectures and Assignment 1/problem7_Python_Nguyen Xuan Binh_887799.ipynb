{
 "cells": [
  {
   "cell_type": "markdown",
   "id": "6593f45d",
   "metadata": {},
   "source": [
    "# Assignment 1 Problem 7 [887799]"
   ]
  },
  {
   "cell_type": "markdown",
   "id": "bc63d6fd",
   "metadata": {},
   "source": [
    "## One kiosk simulation model"
   ]
  },
  {
   "cell_type": "code",
   "execution_count": 1,
   "id": "f39d9e3b",
   "metadata": {},
   "outputs": [],
   "source": [
    "##\n",
    "# generate interarrival times\n",
    "##\n",
    "\n",
    "##\n",
    "# generate arrival times using the interarrival times\n",
    "##\n",
    "\n",
    "##\n",
    "# generate service times\n",
    "##\n",
    "\n",
    "##\n",
    "# generate start times and completion times in the same loop\n",
    "##\n"
   ]
  },
  {
   "cell_type": "code",
   "execution_count": 42,
   "id": "5ad17fb5",
   "metadata": {},
   "outputs": [],
   "source": [
    "import numpy as np\n",
    "\n",
    "np.random.seed(0)  \n",
    "num_customers = 1000000  # number of customers \n",
    "mean_interarrival_time = 2.5  \n",
    "mean_service_time = 2  \n",
    "std_service_time = 0.5  \n",
    "\n",
    "##\n",
    "# generate interarrival times (exponentially distributed)\n",
    "##\n",
    "\n",
    "interarrival_times = np.random.exponential(mean_interarrival_time, num_customers)\n",
    "\n",
    "##\n",
    "# generate arrival times using the interarrival times\n",
    "##\n",
    "\n",
    "arrival_times = np.cumsum(interarrival_times)\n",
    "\n",
    "##\n",
    "# generate service times (normally distributed)\n",
    "##\n",
    "\n",
    "service_times = np.random.normal(mean_service_time, std_service_time, num_customers)\n",
    "\n",
    "# Initialize start times and completion times\n",
    "start_times = np.zeros(num_customers)\n",
    "completion_times = np.zeros(num_customers)\n",
    "\n",
    "##\n",
    "# generate start times and completion times in the same loop\n",
    "##\n",
    "\n",
    "for i in range(num_customers):\n",
    "    if i == 0:\n",
    "        start_times[i] = arrival_times[i]  \n",
    "    else:\n",
    "        start_times[i] = max(arrival_times[i], completion_times[i-1])  # start when either the customer arrives or the kiosk is free\n",
    "    completion_times[i] = start_times[i] + service_times[i] \n"
   ]
  },
  {
   "cell_type": "markdown",
   "id": "3b97d581",
   "metadata": {},
   "source": [
    "## Answer to part a)\n",
    "#### Enter the code in the cell directly below"
   ]
  },
  {
   "cell_type": "code",
   "execution_count": 43,
   "id": "0b5035f4",
   "metadata": {},
   "outputs": [
    {
     "name": "stdout",
     "output_type": "stream",
     "text": [
      "The probability that the kiosk is busy when a new customer arrives is 0.79913\n"
     ]
    }
   ],
   "source": [
    "# Calculate the probability that the kiosk is not free when a new customer arrives\n",
    "busy_kiosk_new_arrival_probability = np.sum(arrival_times < start_times) / num_customers\n",
    "\n",
    "print(f\"The probability that the kiosk is busy when a new customer arrives is {busy_kiosk_new_arrival_probability}\")"
   ]
  },
  {
   "cell_type": "markdown",
   "id": "97c96fe0",
   "metadata": {},
   "source": [
    "## Answer to part b)\n",
    "#### Enter the code in the cell directly below"
   ]
  },
  {
   "cell_type": "code",
   "execution_count": 44,
   "id": "31d64288",
   "metadata": {},
   "outputs": [
    {
     "name": "stdout",
     "output_type": "stream",
     "text": [
      "The mean waiting time is 4.21847 minutes\n"
     ]
    }
   ],
   "source": [
    "# What is the mean waiting time in minutes? \n",
    "waiting_times = start_times - arrival_times\n",
    "mean_waiting_time = np.mean(waiting_times)\n",
    "\n",
    "print(\"The mean waiting time is\", round(mean_waiting_time, 5), \"minutes\")"
   ]
  },
  {
   "cell_type": "markdown",
   "id": "31303b78",
   "metadata": {},
   "source": [
    "## Two kiosk simulation model"
   ]
  },
  {
   "cell_type": "code",
   "execution_count": null,
   "id": "92feb6af",
   "metadata": {},
   "outputs": [],
   "source": [
    "##\n",
    "# generate interarrival times (same as in one kiosk model)\n",
    "##\n",
    "\n",
    "##\n",
    "# generate arrival times using the interarrival times (same as in one kiosk model)\n",
    "##\n",
    "\n",
    "##\n",
    "# generate service times (same as in one kiosk model)\n",
    "##\n",
    "\n",
    "##\n",
    "# generate start times and completion times in the same loop\n",
    "# generate vectors that indicate when each kiosk becomes available\n",
    "##\n"
   ]
  },
  {
   "cell_type": "code",
   "execution_count": 45,
   "id": "ef783629",
   "metadata": {},
   "outputs": [],
   "source": [
    "np.random.seed(0)  \n",
    "num_customers = 1000000  # number of customers \n",
    "mean_interarrival_time = 2.5  \n",
    "mean_service_time = 2 \n",
    "std_service_time = 0.5 \n",
    "\n",
    "##\n",
    "# generate interarrival times (same as in one kiosk model)\n",
    "##\n",
    "\n",
    "interarrival_times = np.random.exponential(mean_interarrival_time, num_customers)\n",
    "\n",
    "##\n",
    "# generate arrival times using the interarrival times (same as in one kiosk model)\n",
    "##\n",
    "\n",
    "arrival_times = np.cumsum(interarrival_times)\n",
    "\n",
    "##\n",
    "# generate service times (same as in one kiosk model)\n",
    "##\n",
    "\n",
    "service_times = np.random.normal(mean_service_time, std_service_time, num_customers)\n",
    "\n",
    "##\n",
    "# generate start times and completion times in the same loop\n",
    "# generate vectors that indicate when each kiosk becomes available\n",
    "##\n",
    "\n",
    "# Start times and completion times for two kiosks\n",
    "start_times_2kiosks = np.zeros(num_customers)\n",
    "completion_times_2kiosks = np.zeros(num_customers)\n",
    "\n",
    "# Completion times for both kiosks\n",
    "completion_time_kiosk1 = 0\n",
    "completion_time_kiosk2 = 0\n",
    "\n",
    "# Loop to calculate start times and completion times for two kiosks\n",
    "for i in range(num_customers):\n",
    "    # Check which kiosk becomes available first\n",
    "    if completion_time_kiosk1 <= completion_time_kiosk2:\n",
    "        start_times_2kiosks[i] = max(arrival_times[i], completion_time_kiosk1)\n",
    "        completion_time_kiosk1 = start_times_2kiosks[i] + service_times[i]\n",
    "    else:\n",
    "        start_times_2kiosks[i] = max(arrival_times[i], completion_time_kiosk2)\n",
    "        completion_time_kiosk2 = start_times_2kiosks[i] + service_times[i]\n",
    "\n",
    "    completion_times_2kiosks[i] = start_times_2kiosks[i] + service_times[i]\n",
    "\n"
   ]
  },
  {
   "cell_type": "markdown",
   "id": "a530b0e5",
   "metadata": {},
   "source": [
    "## Answer to part c)\n",
    "#### Enter the code in the cell directly below"
   ]
  },
  {
   "cell_type": "code",
   "execution_count": 46,
   "id": "fb6db8a0",
   "metadata": {},
   "outputs": [
    {
     "name": "stdout",
     "output_type": "stream",
     "text": [
      "The mean waiting time for two kiosks is 0.21709 minutes\n"
     ]
    }
   ],
   "source": [
    "waiting_times_2kiosks = start_times_2kiosks - arrival_times\n",
    "mean_waiting_time_2kiosks = np.mean(waiting_times_2kiosks)\n",
    "\n",
    "print(\"The mean waiting time for two kiosks is\", round(mean_waiting_time_2kiosks, 5), \"minutes\")"
   ]
  }
 ],
 "metadata": {
  "kernelspec": {
   "display_name": "Python 3 (ipykernel)",
   "language": "python",
   "name": "python3"
  },
  "language_info": {
   "codemirror_mode": {
    "name": "ipython",
    "version": 3
   },
   "file_extension": ".py",
   "mimetype": "text/x-python",
   "name": "python",
   "nbconvert_exporter": "python",
   "pygments_lexer": "ipython3",
   "version": "3.11.3"
  }
 },
 "nbformat": 4,
 "nbformat_minor": 5
}
