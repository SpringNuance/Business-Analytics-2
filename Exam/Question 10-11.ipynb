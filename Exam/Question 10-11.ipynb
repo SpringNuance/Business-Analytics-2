{
 "cells": [
  {
   "cell_type": "markdown",
   "metadata": {},
   "source": [
    "The figure of question 10 contains a spreadsheet model where a financier is evaluating investment projects using an additive multiattribute utility model with three attributes\n",
    "\n",
    "What is the the overall utility of the project x^E = (35,good,2) ? Report your answer using two decimals.\n",
    "\n",
    "In this problem, you get three tries such that after each incorrect try, one third (33%) of the maximum points is deducted."
   ]
  },
  {
   "cell_type": "code",
   "execution_count": 2,
   "metadata": {},
   "outputs": [
    {
     "name": "stdout",
     "output_type": "stream",
     "text": [
      "The expected overall utility for the project x^A is: 0.375\n",
      "The expected overall utility for the project x^B is: 0.7830127018922193\n",
      "The expected overall utility for the project x^C is: 0.43610679774997896\n",
      "The expected overall utility for the project x^D is: 0.753727766016838\n",
      "The expected overall utility for the project x^E is: 0.45830398915498083\n"
     ]
    }
   ],
   "source": [
    "import pandas as pd\n",
    "from io import BytesIO\n",
    "import matplotlib.pyplot as plt\n",
    "\n",
    "# Define the utility functions and weights from the given image\n",
    "def u1(x1):\n",
    "    return (x1 / 100) ** 0.5\n",
    "\n",
    "def u2(x2):\n",
    "    if x2 == 'poor':\n",
    "        return 0.0\n",
    "    elif x2 == 'good':\n",
    "        return 0.4\n",
    "    elif x2 == 'great':\n",
    "        return 0.6\n",
    "    elif x2 == 'wow':\n",
    "        return 1.0\n",
    "\n",
    "def u3(x3):\n",
    "    mappingscore = {\n",
    "        1: 0.0,\n",
    "        2: 0.25,\n",
    "        3: 0.5,\n",
    "        4: 0.75,\n",
    "        5: 1.0\n",
    "    }\n",
    "    return mappingscore[x3]\n",
    "\n",
    "# Weights\n",
    "w1 = 0.5\n",
    "w2 = 0.25\n",
    "w3 = 0.25\n",
    "\n",
    "# Project x^E\n",
    "x1_E = 35\n",
    "x2_E = 'good'\n",
    "x3_E = 2\n",
    "\n",
    "u_x1_E = u1(x1_E)\n",
    "u_x2_E = u2(x2_E)\n",
    "u_x3_E = u3(x3_E)\n",
    "\n",
    "overall_utility_xE = w1 * u_x1_E + w2 * u_x2_E + w3 * u_x3_E\n",
    "\n",
    "# Verify if utility functions are correct\n",
    "overall_utility_xA = w1 * u1(25) + w2 * u2(\"poor\") + w3 * u3(3)\n",
    "overall_utility_xB = w1 * u1(75) + w2 * u2(\"good\") + w3 * u3(5)\n",
    "overall_utility_xC = w1 * u1(20) + w2 * u2(\"great\") + w3 * u3(2)\n",
    "overall_utility_xD = w1 * u1(40) + w2 * u2(\"wow\") + w3 * u3(4)\n",
    "\n",
    "print(\"The expected overall utility for the project x^A is:\", overall_utility_xA)\n",
    "print(\"The expected overall utility for the project x^B is:\", overall_utility_xB)\n",
    "print(\"The expected overall utility for the project x^C is:\", overall_utility_xC)\n",
    "print(\"The expected overall utility for the project x^D is:\", overall_utility_xD)\n",
    "\n",
    "print(\"The expected overall utility for the project x^E is:\", overall_utility_xE)\n"
   ]
  },
  {
   "cell_type": "markdown",
   "metadata": {},
   "source": [
    "The figure of question 11 contains a spreadsheet model where a financier is evaluating investment projects using an additive multiattribute utility model with three attributes.\n",
    "\n",
    "When assessing the attribute weights for this model the decision maker (DM) was asked to assess the level of financial value x1, such that the alternatives (x1,good,1) and (0,good,4) are equally preferred. What was the DM’s response? Report your answer using one decimal.\n",
    "\n",
    "In this problem, you get three tries such that after each incorrect try, one third (33%) of the maximum points is deducted."
   ]
  },
  {
   "cell_type": "markdown",
   "metadata": {},
   "source": [
    "In order to solve this problem, we need to find the value of x1 such that the overall utilities of the two alternatives ($x_1$, good, 1) and (0, good, 4) are equal. This means setting up an equation where the weighted sum of utilities for both options is the same.\n",
    "\n",
    "Given the weights $w_1$, $w_2$, $w_3$ and the utility functions $u_1(x_1)$, $u_2(x_2)$, $u_3(x_3)$, we can set up the equation:\n",
    "\n",
    "$w_1 u_1(x_1) + w_2 u_2(good) + w_3 u_3(1) = w_1 u_1(0) + w_2 u_2(good) + w_3 u_3(4)$\n",
    "\n",
    "We can solve for $x_1$ using this equation. "
   ]
  },
  {
   "cell_type": "code",
   "execution_count": 11,
   "metadata": {},
   "outputs": [
    {
     "name": "stdout",
     "output_type": "stream",
     "text": [
      "The expected overall utility for the project x^Reference is: 0.2875\n",
      "The expected overall utility for the unknown project except x1 is: 0.1\n",
      "The expected utility for the unknown x1 is: 0.37499999999999994\n",
      "The expected x1 for the unknown project is: 14.062499999999995\n",
      "The expected overall utility for the unknown project is: 0.2875\n"
     ]
    }
   ],
   "source": [
    "overall_utility_reference = w1 * u1(0) + w2 * u2(\"good\") + w3 * u3(4)\n",
    "\n",
    "print(\"The expected overall utility for the project x^Reference is:\", overall_utility_reference)\n",
    "\n",
    "unknown_reference_except_x1 = w2 * u2(\"good\") + w3 * u3(1)\n",
    "\n",
    "print(\"The expected overall utility for the unknown project except x1 is:\", unknown_reference_except_x1)\n",
    "\n",
    "utility_unknown_x1 = (overall_utility_reference - unknown_reference_except_x1) / w1\n",
    "\n",
    "print(\"The expected utility for the unknown x1 is:\", utility_unknown_x1)\n",
    "\n",
    "def u1(x1):\n",
    "    return (x1 / 100) ** 0.5\n",
    "\n",
    "def u1_inverse(u1):\n",
    "    return (u1 ** 2) * 100\n",
    "\n",
    "x1 = u1_inverse(utility_unknown_x1)\n",
    "\n",
    "print(\"The expected x1 for the unknown project is:\", x1)\n",
    "\n",
    "# Testing again if the overall utility of unknown project is correct\n",
    "\n",
    "overall_utility_unknown = w1 * u1(x1) + w2 * u2(\"good\") + w3 * u3(1)\n",
    "\n",
    "print(\"The expected overall utility for the unknown project is:\", overall_utility_unknown)"
   ]
  }
 ],
 "metadata": {
  "kernelspec": {
   "display_name": "Python 3",
   "language": "python",
   "name": "python3"
  },
  "language_info": {
   "codemirror_mode": {
    "name": "ipython",
    "version": 3
   },
   "file_extension": ".py",
   "mimetype": "text/x-python",
   "name": "python",
   "nbconvert_exporter": "python",
   "pygments_lexer": "ipython3",
   "version": "3.12.2"
  }
 },
 "nbformat": 4,
 "nbformat_minor": 2
}
