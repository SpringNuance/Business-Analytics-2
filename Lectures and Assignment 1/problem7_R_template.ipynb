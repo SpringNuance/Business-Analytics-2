{
 "cells": [
  {
   "cell_type": "markdown",
   "metadata": {},
   "source": [
    "# Assignment 1 Problem 7 [student ID number]"
   ]
  },
  {
   "cell_type": "markdown",
   "metadata": {},
   "source": [
    "## One kiosk simulation model"
   ]
  },
  {
   "cell_type": "code",
   "execution_count": null,
   "metadata": {},
   "outputs": [],
   "source": [
    "# install R library ggplot\n",
    "install.packages(\"ggplot2\")\n",
    "\n"
   ]
  },
  {
   "cell_type": "code",
   "execution_count": null,
   "metadata": {},
   "outputs": [],
   "source": []
  },
  {
   "cell_type": "code",
   "execution_count": 49,
   "metadata": {},
   "outputs": [],
   "source": [
    "##\n",
    "# generate interarrival times\n",
    "##\n",
    "\n",
    "##\n",
    "# generate arrival times using the interarrival times\n",
    "##\n",
    "\n",
    "##\n",
    "# generate service times\n",
    "##\n",
    "\n",
    "##\n",
    "# generate start times and completion times in the same loop\n",
    "##\n"
   ]
  },
  {
   "cell_type": "markdown",
   "metadata": {},
   "source": [
    "## Answer to part a)\n",
    "#### Enter the code in the cell directly below"
   ]
  },
  {
   "cell_type": "code",
   "execution_count": null,
   "metadata": {},
   "outputs": [],
   "source": []
  },
  {
   "cell_type": "markdown",
   "metadata": {},
   "source": [
    "## Answer to part b)\n",
    "#### Enter the code in the cell directly below"
   ]
  },
  {
   "cell_type": "code",
   "execution_count": null,
   "metadata": {},
   "outputs": [],
   "source": []
  },
  {
   "cell_type": "markdown",
   "metadata": {},
   "source": [
    "## Two kiosk simulation model"
   ]
  },
  {
   "cell_type": "code",
   "execution_count": 56,
   "metadata": {},
   "outputs": [],
   "source": [
    "##\n",
    "# generate interarrival times (same as in one kiosk model)\n",
    "##\n",
    "\n",
    "##\n",
    "# generate arrival times using the interarrival times (same as in one kiosk model)\n",
    "##\n",
    "\n",
    "##\n",
    "# generate service times (same as in one kiosk model)\n",
    "##\n",
    "\n",
    "##\n",
    "# generate start times and completion times in the same loop\n",
    "# generate vectors that indicate when each kiosk becomes available\n",
    "##\n"
   ]
  },
  {
   "cell_type": "markdown",
   "metadata": {},
   "source": [
    "## Answer to part c)\n",
    "#### Enter the code in the cell directly below"
   ]
  },
  {
   "cell_type": "code",
   "execution_count": null,
   "metadata": {},
   "outputs": [],
   "source": []
  }
 ],
 "metadata": {
  "kernelspec": {
   "display_name": "Julia 1.9.3",
   "language": "julia",
   "name": "julia-1.9"
  },
  "language_info": {
   "file_extension": ".jl",
   "mimetype": "application/julia",
   "name": "julia",
   "version": "1.9.3"
  }
 },
 "nbformat": 4,
 "nbformat_minor": 4
}
