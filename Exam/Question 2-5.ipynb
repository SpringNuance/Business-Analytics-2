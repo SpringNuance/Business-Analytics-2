{
 "cells": [
  {
   "cell_type": "markdown",
   "metadata": {},
   "source": [
    "### Question 2\n",
    "\n",
    "A company is considering whether to invest into a high-risk external project or a virtually risk-free internal project. The profit from the external project depends on whether a remote economic market experiences an upturn or a downturn. If there is an upturn, the external project will yield a profit of 6.3 thousand euros but if there is a downturn, the external project will cause a loss of 4.9 thousand euros. The internal project will yield one thousand euros regardless of the market developments. The company has estimated the probability of there being an upturn in the remote market to be 0.5. The company is risk-neutral in its investment decision making.\n",
    "\n",
    "What is the expected monetary value of the company's optimal decision? Give your answer in thousands of euros using two decimals. (Currency symbol is not needed in the answer.)\n",
    "\n",
    "NOTE: It is recommended that you solve this problem using Excel and formulate the problem in a decision tree in a way that it is easy for you to change the parameter values (profits and probabilities). The same problem (and extended versions thereof) with possibly different parameter values will be discussed in subsequent questions.\n",
    "\n",
    "In this problem, you get three tries such that after each incorrect try, one third (33%) of the maximum points is deducted."
   ]
  },
  {
   "cell_type": "code",
   "execution_count": 1,
   "metadata": {},
   "outputs": [
    {
     "name": "stdout",
     "output_type": "stream",
     "text": [
      "0.6999999999999997\n",
      "1.0\n"
     ]
    }
   ],
   "source": [
    "profit_external_upturn = 6.3 \n",
    "loss_external_downturn = -4.9 \n",
    "profit_internal = 1.0 \n",
    "probability_upturn = 0.5\n",
    "probability_downturn = 1 - probability_upturn\n",
    "\n",
    "# Expected monetary value (EMV) calculation for external project\n",
    "EMV_external = (profit_external_upturn * probability_upturn) + (loss_external_downturn * probability_downturn)\n",
    "print(EMV_external)\n",
    "\n",
    "# company is risk-neutral\n",
    "EMV_optimal_decision = max(EMV_external, profit_internal)\n",
    "\n",
    "print(EMV_optimal_decision)"
   ]
  },
  {
   "cell_type": "markdown",
   "metadata": {},
   "source": [
    "### Question 3\n",
    "\n",
    "A company is considering whether to invest into a high-risk external project or a virtually risk-free internal project. The profit from the external project depends on whether a remote economic market experiences an upturn or a downturn. If there is an upturn, the external project will yield a profit of 6.3 thousand euros but if there is a downturn, the external project will cause a loss of 2.6 thousand euros. The internal project will yield one thousand euros regardless of the market developments. The company has estimated the probability of there being an upturn in the remote market to be 0.3. The company is risk-neutral in its investment decision making. (Note: the parameter values may be different than in the previous question.)\n",
    "\n",
    "What is the expected value of perfect information (in thousands of euros)? Use two decimals in your answer. (Currency symbol is not needed in the answer.)\n",
    "\n",
    "In this problem, you get three tries such that after each incorrect try, one third (33%) of the maximum points is deducted."
   ]
  },
  {
   "cell_type": "code",
   "execution_count": 4,
   "metadata": {},
   "outputs": [
    {
     "name": "stdout",
     "output_type": "stream",
     "text": [
      "1.5899999999999999\n"
     ]
    }
   ],
   "source": [
    "profit_external_upturn = 6.3 \n",
    "loss_external_downturn = -2.6 \n",
    "profit_internal = 1.0 \n",
    "probability_upturn = 0.3\n",
    "probability_downturn = 1 - probability_upturn\n",
    "\n",
    "\n",
    "# EMV for external project\n",
    "EMV_external_new = (profit_external_upturn * probability_upturn) + (loss_external_downturn * probability_downturn)\n",
    "\n",
    "# EMV for internal project\n",
    "EMV_internal = profit_internal\n",
    "\n",
    "# EVWPI\n",
    "EV_without_perfect_info = max(EMV_external_new, EMV_internal)\n",
    "\n",
    "# If upturn is certain\n",
    "EV_with_perfect_info_upturn = max(profit_external_upturn, EMV_internal)\n",
    "# If downturn is certain\n",
    "EV_with_perfect_info_downturn = max(loss_external_downturn, EMV_internal)\n",
    "\n",
    "EV_with_perfect_info = (EV_with_perfect_info_upturn * probability_upturn) + (EV_with_perfect_info_downturn * probability_downturn)\n",
    "\n",
    "# EVPI\n",
    "EVPI = EV_with_perfect_info - EV_without_perfect_info\n",
    "\n",
    "print(EVPI)"
   ]
  },
  {
   "cell_type": "markdown",
   "metadata": {},
   "source": [
    "### Question 4\n",
    "\n",
    "A company is considering whether to invest into a high-risk external project or a virtually risk-free internal project. The profit from the external project depends on whether a remote economic market experiences an upturn or a downturn. If there is an upturn, the external project will yield a profit of 7.5 thousand euros but if there is a downturn, the external project will cause a loss of 2 thousand euros. The internal project will yield one thousand euros regardless of the market developments. The company has estimated the probability of there being an upturn in the remote market to be 0.5. The company is risk-neutral in its investment decision making. (Note: the parameter values may be different than in the previous question.)\n",
    "\n",
    "To obtain more accurate information about the probability of the remote market experiencing an upturn, the company can purchase a market study at cost 0.4 (in thousands of euros). The market study gives either a favourable or an unfavourable result. Based on historical data, the probability of the study giving a favourable result given that the remote market actually has an upturn is 0.8. The probability that the study gives an unfavourable result given that the market actually has a downturn is 0.8.\n",
    "\n",
    "What is the expected monetary value (in thousands of euros) corresponding to the optimal decisions through the decision tree? Use two decimals. (Currency symbol is not needed in the answer.)\n",
    "\n",
    "In this problem, you get three tries such that after each incorrect try, one third (33%) of the maximum points is deducted."
   ]
  },
  {
   "cell_type": "code",
   "execution_count": 4,
   "metadata": {},
   "outputs": [
    {
     "data": {
      "text/plain": [
       "2.8999999999999995"
      ]
     },
     "execution_count": 4,
     "metadata": {},
     "output_type": "execute_result"
    }
   ],
   "source": [
    "profit_external_upturn = 7.5\n",
    "loss_external_downturn = -2.0 \n",
    "profit_internal = 1.0 \n",
    "probability_upturn = 0.5\n",
    "probability_downturn = 1 - probability_upturn\n",
    "\n",
    "# Market study \n",
    "cost_market_study = 0.4 \n",
    "\n",
    "prob_favourable_given_upturn = 0.8\n",
    "prob_unfavourable_given_downturn = 0.8\n",
    "\n",
    "# Law of total probability for P(favourable)\n",
    "prob_favourable = (prob_favourable_given_upturn * probability_upturn) \\\n",
    "                   + (1 - prob_unfavourable_given_downturn) * probability_downturn\n",
    "\n",
    "# Probability of upturn given a favourable result\n",
    "prob_upturn_given_favourable = (prob_favourable_given_upturn * probability_upturn) / prob_favourable\n",
    "\n",
    "# Law of total probability for P(unfavourable)\n",
    "prob_unfavourable = (1 - prob_favourable_given_upturn) * probability_upturn \\\n",
    "                    + (prob_unfavourable_given_downturn * probability_downturn)\n",
    "\n",
    "# Probability of downturn given an unfavourable result\n",
    "prob_downturn_given_unfavourable = (prob_unfavourable_given_downturn * probability_downturn) / prob_unfavourable\n",
    "\n",
    "# EMV for external project after favourable and unfavourable results\n",
    "EMV_external_favourable = (profit_external_upturn * prob_upturn_given_favourable) + (loss_external_downturn * (1 - prob_upturn_given_favourable))\n",
    "EMV_external_unfavourable = (profit_external_upturn * (1 - prob_downturn_given_unfavourable)) + (loss_external_downturn * prob_downturn_given_unfavourable)\n",
    "\n",
    "# Optimal decisions after market study results\n",
    "optimal_decision_favourable = max(EMV_external_favourable, profit_internal) - cost_market_study\n",
    "optimal_decision_unfavourable = max(EMV_external_unfavourable, profit_internal) - cost_market_study\n",
    "\n",
    "# Overall EMV considering the market study\n",
    "EMV_with_study = (prob_favourable_given_upturn * probability_upturn + \\\n",
    "                  (1 - prob_unfavourable_given_downturn) * probability_downturn) * optimal_decision_favourable + \\\n",
    "                  ((1 - prob_favourable_given_upturn) * probability_upturn \\\n",
    "                   + prob_unfavourable_given_downturn * probability_downturn) * optimal_decision_unfavourable\n",
    "\n",
    "EMV_without_study = max((profit_external_upturn * probability_upturn + loss_external_downturn * probability_downturn), profit_internal)\n",
    "\n",
    "optimal_EMV = max(EMV_with_study, EMV_without_study)\n",
    "\n",
    "print(optimal_EMV)\n"
   ]
  },
  {
   "cell_type": "markdown",
   "metadata": {},
   "source": [
    "### Question 5\n",
    "\n",
    "A company is considering whether to invest into a high-risk external project or a virtually risk-free internal project. The profit from the external project depends on whether a remote economic market experiences an upturn or a downturn. If there is an upturn, the external project will yield a profit of 8.6 thousand euros but if there is a downturn, the external project will cause a loss of 2.1 thousand euros. The internal project will yield one thousand euros regardless of the market developments. The company has estimated the probability of there being an upturn in the remote market to be 0.6. The company is risk-neutral in its investment decision making.\n",
    "\n",
    "To obtain more accurate information about the probability of the remote market experiencing an upturn, the company can purchase a market study. The market study gives either a favourable or an unfavourable result. Based on historical data, the probability of the study giving a favourable result given that the remote market actually has an upturn is 0.8. The probability that the study gives an unfavourable result given that the market actually has a downturn is 0.8. (Note: the parameter values may be different than in the previous question.)\n",
    "\n",
    "What is the expected value of sample information (where sample information is given by the market study)? Give your answer in thousands of euros using two decimals. (Currency symbol is not needed in the answer.)\n",
    "\n",
    "In this problem, you get three tries such that after each incorrect try, one third (33%) of the maximum points is deducted."
   ]
  },
  {
   "cell_type": "code",
   "execution_count": 5,
   "metadata": {},
   "outputs": [
    {
     "data": {
      "text/plain": [
       "0.08000000000000096"
      ]
     },
     "execution_count": 5,
     "metadata": {},
     "output_type": "execute_result"
    }
   ],
   "source": [
    "profit_external_upturn = 8.6 \n",
    "loss_external_downturn = -2.1 \n",
    "profit_internal = 1.0 \n",
    "probability_upturn = 0.6\n",
    "probability_downturn = 1 - probability_upturn\n",
    "\n",
    "prob_favourable_given_upturn = 0.8\n",
    "prob_unfavourable_given_downturn = 0.8\n",
    "\n",
    "# Law of total probability for P(favourable)\n",
    "prob_favourable = (prob_favourable_given_upturn * probability_upturn) \\\n",
    "                     + (1 - prob_unfavourable_given_downturn) * probability_downturn\n",
    "# Probability of upturn given a favourable result\n",
    "probability_upturn_given_favourable = (prob_favourable_given_upturn * probability_upturn) / prob_favourable\n",
    "\n",
    "# Law of total probability for P(unfavourable)\n",
    "prob_unfavourable = (1 - prob_favourable_given_upturn) * probability_upturn \\\n",
    "                      + (prob_unfavourable_given_downturn * probability_downturn)\n",
    "\n",
    "# Probability of downturn given an unfavourable result\n",
    "probability_downturn_given_unfavourable = (prob_unfavourable_given_downturn * probability_downturn) / prob_unfavourable\n",
    "\n",
    "# EMV for external project after favourable and unfavourable results\n",
    "EMV_external_favourable = (profit_external_upturn * probability_upturn_given_favourable) + (loss_external_downturn * (1 - probability_upturn_given_favourable))\n",
    "EMV_external_unfavourable = (profit_external_upturn * (1 - probability_downturn_given_unfavourable)) + (loss_external_downturn * probability_downturn_given_unfavourable)\n",
    "\n",
    "# Expected value with sample information\n",
    "EV_with_sample_info = (prob_favourable_given_upturn * probability_upturn + (1 - prob_unfavourable_given_downturn) * probability_downturn) * max(EMV_external_favourable, profit_internal) + ((1 - prob_favourable_given_upturn) * probability_upturn + prob_unfavourable_given_downturn * probability_downturn) * max(EMV_external_unfavourable, profit_internal)\n",
    "\n",
    "# Expected value without sample information\n",
    "EV_without_sample_info = max(profit_external_upturn * probability_upturn + loss_external_downturn * probability_downturn, profit_internal)\n",
    "\n",
    "EVSI = EV_with_sample_info - EV_without_sample_info\n",
    "\n",
    "print(EVSI)"
   ]
  }
 ],
 "metadata": {
  "kernelspec": {
   "display_name": "Python 3",
   "language": "python",
   "name": "python3"
  },
  "language_info": {
   "codemirror_mode": {
    "name": "ipython",
    "version": 3
   },
   "file_extension": ".py",
   "mimetype": "text/x-python",
   "name": "python",
   "nbconvert_exporter": "python",
   "pygments_lexer": "ipython3",
   "version": "3.12.2"
  }
 },
 "nbformat": 4,
 "nbformat_minor": 2
}
