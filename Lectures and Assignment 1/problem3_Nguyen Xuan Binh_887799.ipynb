{
 "cells": [
  {
   "cell_type": "code",
   "execution_count": 9,
   "metadata": {},
   "outputs": [
    {
     "name": "stdout",
     "output_type": "stream",
     "text": [
      "0.43400000000000005\n"
     ]
    }
   ],
   "source": [
    "# What is the probability that the new test declares that a randomly selected flux capacitor does not have a defect \n",
    "# (i.e., what is the share of finished products that pass the new test)?\n",
    "\n",
    "# Since Python is close to text description, I can use it directly for this exercise\n",
    "\n",
    "# Given these probabilities\n",
    "P_defect = 0.7  # Probability that a flux capacitor is defective\n",
    "P_not_defect = 1 - P_defect  # Probability that a flux capacitor is not defective\n",
    "P_TP = 0.77  # Probability of true positive: the test declares a defective product as defective\n",
    "P_TN = 0.91  # Probability of true negative: the test declares a non-defective product as not defective\n",
    "P_FP = 1 - P_TN # Probability of false positive: the test incorrectly declares a non-defective product as defective\n",
    "P_FN = 1 - P_TP # Probability of false negative: the test incorrectly declares a defective product as not defective\n",
    "\n",
    "# We can use the Law of Total Probability, considering both cases where the capacitor is actually defective and non-defective\n",
    "\n",
    "# Total probability that the test declares a flux capacitor as non-defective\n",
    "P_test_not_defect = (P_defect * P_FN) + (P_not_defect * P_TN)\n",
    "\n",
    "# The numerical answer is P_test_not_defect = 0.434\n",
    "\n",
    "print(P_test_not_defect)\n"
   ]
  },
  {
   "cell_type": "code",
   "execution_count": 13,
   "metadata": {},
   "outputs": [
    {
     "name": "stdout",
     "output_type": "stream",
     "text": [
      "0.04770318021201413\n"
     ]
    }
   ],
   "source": [
    "# What is the probability that a flux capacitor that did not pass the new test (and would thus be reworked) is working properly?\n",
    "\n",
    "# Given these probabilities\n",
    "P_defect = 0.7  # Probability that a flux capacitor is defective\n",
    "P_not_defect = 1 - P_defect  # Probability that a flux capacitor is not defective\n",
    "P_TP = 0.77  # Probability of true positive: the test declares a defective product as defective\n",
    "P_TN = 0.91  # Probability of true negative: the test declares a non-defective product as not defective\n",
    "P_FP = 1 - P_TN # Probability of false positive: the test incorrectly declares a non-defective product as defective\n",
    "P_FN = 1 - P_TP # Probability of false negative: the test incorrectly declares a defective product as not defective\n",
    "\n",
    "# We want to find the probability that a flux capacitor is actually not defective given that it did not pass the test\n",
    "# This is a conditional probability that can be found using Bayes' theorem\n",
    "\n",
    "# First, find the probability that the test declares a flux capacitor as defective (either correctly or as a FP)\n",
    "P_test_defect = (P_defect * P_TP) + (P_not_defect * P_FP)\n",
    "\n",
    "# Now, apply Bayes' theorem to find the conditional probability\n",
    "# We want to find P(Not Defective | Test Defective), which is equal to\n",
    "# P(Test Defective | Not Defective) * P(Not Defective) / P(Test Defective)\n",
    "\n",
    "# Now apply Bayes' theorem to find the conditional probability\n",
    "P_not_defect_given_test_defect = (P_FP * P_not_defect) / P_test_defect\n",
    "\n",
    "# The numerical answer is P_not_defect_given_test_defect = 0.04770318021201413\n",
    "\n",
    "print(P_not_defect_given_test_defect)\n"
   ]
  },
  {
   "cell_type": "code",
   "execution_count": 14,
   "metadata": {},
   "outputs": [
    {
     "name": "stdout",
     "output_type": "stream",
     "text": [
      "0.6290322580645162\n"
     ]
    }
   ],
   "source": [
    "# What is the probability that a flux capacitor that passed the test (and would be shipped to customers) is working properly?\n",
    "\n",
    "# Given these probabilities\n",
    "P_defect = 0.7  # Probability that a flux capacitor is defective\n",
    "P_not_defect = 1 - P_defect  # Probability that a flux capacitor is not defective\n",
    "P_TP = 0.77  # Probability of true positive: the test declares a defective product as defective\n",
    "P_TN = 0.91  # Probability of true negative: the test declares a non-defective product as not defective\n",
    "P_FP = 1 - P_TN # Probability of false positive: the test incorrectly declares a non-defective product as defective\n",
    "P_FN = 1 - P_TP # Probability of false negative: the test incorrectly declares a defective product as not defective\n",
    "\n",
    "# Probability that a capacitor is non-defective given that it passed the test can be found using Bayes' theorem\n",
    "\n",
    "# First, we calculate the probability of a capacitor passing the test, which we already calculated: P_test_not_defect = 0.434 (Part a)\n",
    "\n",
    "# Now, apply Bayes' theorem to find the probability of a capacitor being non-defective given that it passed the test\n",
    "# We want to find P(Non-Defective | Test Non-Defective), which is equal to\n",
    "# P(Test Non-Defective | Non-Defective) * P(Non-Defective) / P(Test Non-Defective)\n",
    "\n",
    "P_not_defect_given_test_not_defect = (P_TN * P_not_defect) / P_test_not_defect\n",
    "\n",
    "# The numerical answer is P_not_defect_given_test_not_defect = 0.6290322580645162\n",
    "\n",
    "print(P_not_defect_given_test_not_defect)"
   ]
  }
 ],
 "metadata": {
  "kernelspec": {
   "display_name": "Python 3",
   "language": "python",
   "name": "python3"
  },
  "language_info": {
   "codemirror_mode": {
    "name": "ipython",
    "version": 3
   },
   "file_extension": ".py",
   "mimetype": "text/x-python",
   "name": "python",
   "nbconvert_exporter": "python",
   "pygments_lexer": "ipython3",
   "version": "3.11.3"
  }
 },
 "nbformat": 4,
 "nbformat_minor": 2
}
