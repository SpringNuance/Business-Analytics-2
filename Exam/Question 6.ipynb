{
 "cells": [
  {
   "cell_type": "markdown",
   "metadata": {},
   "source": [
    "### Question 6\n",
    "\n",
    "Consider a random variable X such that P(X=3)=0.55, P(X=5)=0.2 and P(X=9.9)=0.25, and a decision maker with the utility function u(t)=(1/4) * t^2. What is the value of CE[X]? Report your answer using two decimals.\n",
    "\n",
    "If you dont know what is CE[X], this is its definition. \n",
    "Certainty Equivalent CE[X] of a random variable X is an outcome in T such that\n",
    "u(CE[X]) = E[u(X)]\n",
    "- Alternative definition: CE[X]=u-1(E[u(X)])\n",
    "- DM is indifferent between alternative X and the certain outcome CE[X]\n",
    "- Note u(CE[X])=E[u(CE[X])] since CE[X] is an outcome, not a random variable\n",
    "- CE[X] depends on both the DM’s preferences (u) and the uncertainty in the\n",
    "decision alternative (distribution of X)\n",
    "\n",
    "In this problem, you have three tries such that after each incorrect try, one third (33%) of the maximum points is deducted."
   ]
  },
  {
   "cell_type": "code",
   "execution_count": 4,
   "metadata": {},
   "outputs": [
    {
     "name": "stdout",
     "output_type": "stream",
     "text": [
      "The expected utility of X is 8.613125\n",
      "Certainty equivalent of X is 5.869625200981746\n"
     ]
    }
   ],
   "source": [
    "probabilities = [0.55, 0.2, 0.25]\n",
    "values = [3, 5, 9.9]\n",
    "utility_function = lambda t: (1/4) * t**2\n",
    "\n",
    "# Calculating expected utility of X\n",
    "expected_utility = sum(p * utility_function(v) for p, v in zip(probabilities, values))\n",
    "\n",
    "print(\"The expected utility of X is\", expected_utility)\n",
    "\n",
    "# Since u(t) = (1/4) * t^2, then u^-1(y) = 2 * sqrt(y)\n",
    "# To find CE[X], we solve for t in u(CE[X]) = E[u(X)], which simplifies to CE[X] = u^-1(E[u(x)]) = 2 * sqrt(E[u(X)])\n",
    "ce_x = 2 * (expected_utility) ** 0.5\n",
    "\n",
    "print(\"Certainty equivalent of X is\", ce_x)"
   ]
  }
 ],
 "metadata": {
  "kernelspec": {
   "display_name": "Python 3",
   "language": "python",
   "name": "python3"
  },
  "language_info": {
   "codemirror_mode": {
    "name": "ipython",
    "version": 3
   },
   "file_extension": ".py",
   "mimetype": "text/x-python",
   "name": "python",
   "nbconvert_exporter": "python",
   "pygments_lexer": "ipython3",
   "version": "3.12.2"
  }
 },
 "nbformat": 4,
 "nbformat_minor": 2
}
