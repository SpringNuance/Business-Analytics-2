{
 "cells": [
  {
   "cell_type": "code",
   "execution_count": 7,
   "metadata": {},
   "outputs": [
    {
     "name": "stdout",
     "output_type": "stream",
     "text": [
      "P(f): 0.5225\n",
      "P(low|f): 0.0191\n",
      "P(med|f): 0.3445\n",
      "P(high|f): 0.6364\n",
      "P(nfav): 0.4775\n",
      "P(low|nf): 0.3979\n",
      "P(med|nf): 0.5654\n",
      "P(high|nf): 0.0366\n"
     ]
    }
   ],
   "source": [
    "# Given probabilities\n",
    "P_low = 0.20  # P(low)\n",
    "P_med = 0.45  # P(medium)\n",
    "P_high = 0.35  # P(high)\n",
    "\n",
    "# Given conditional probabilities of a favorable result from the market study\n",
    "P_fav_given_low = 0.05  # P(favorable | low)\n",
    "P_fav_given_med = 0.40  # P(favorable | medium)\n",
    "P_fav_given_high = 0.95  # P(favorable | high)\n",
    "\n",
    "# Calculate total probability of receiving a favorable result from the market study\n",
    "P_fav = (P_fav_given_low * P_low) + (P_fav_given_med * P_med) + (P_fav_given_high * P_high)\n",
    "\n",
    "print(f\"P(f): {P_fav:.4f}\")\n",
    "# Now calculate the updated probabilities using Bayes' theorem\n",
    "P_low_given_fav = (P_fav_given_low * P_low) / P_fav\n",
    "P_med_given_fav = (P_fav_given_med * P_med) / P_fav\n",
    "P_high_given_fav = (P_fav_given_high * P_high) / P_fav\n",
    "\n",
    "print(f\"P(low|f): {P_low_given_fav:.4f}\")\n",
    "print(f\"P(med|f): {P_med_given_fav:.4f}\")\n",
    "print(f\"P(high|f): {P_high_given_fav:.4f}\")\n",
    "\n",
    "P_nfav = 1 - P_fav\n",
    "\n",
    "print(f\"P(nfav): {P_nfav:.4f}\")\n",
    "P_nfav_given_low = 1 - P_fav_given_low\n",
    "P_nfav_given_med = 1 - P_fav_given_med\n",
    "P_nfav_given_high = 1 - P_fav_given_high\n",
    "\n",
    "P_low_given_nfav = (P_nfav_given_low * P_low) / P_nfav\n",
    "P_med_given_nfav = (P_nfav_given_med * P_med) / P_nfav\n",
    "P_high_given_nfav = (P_nfav_given_high * P_high) / P_nfav\n",
    "\n",
    "print(f\"P(low|nf): {P_low_given_nfav:.4f}\")\n",
    "print(f\"P(med|nf): {P_med_given_nfav:.4f}\")\n",
    "print(f\"P(high|nf): {P_high_given_nfav:.4f}\")"
   ]
  },
  {
   "cell_type": "code",
   "execution_count": 9,
   "metadata": {},
   "outputs": [
    {
     "name": "stdout",
     "output_type": "stream",
     "text": [
      "Max profits for each demand\n",
      "{'low': 10, 'med': 70, 'high': 120}\n",
      "EPI: 75.5000\n",
      "EVPI = EPI - ENI: 10.2750\n"
     ]
    }
   ],
   "source": [
    "# Given probabilities and profits\n",
    "probabilities = {'low': 0.20, 'med': 0.45, 'high': 0.35}\n",
    "profits = {'low': {'no_robots': 0, 'own_design': -5, 'license': 10},\n",
    "           'med': {'no_robots': 0, 'own_design': 50, 'license': 70},\n",
    "           'high': {'no_robots': 0, 'own_design': 120, 'license': 90}}\n",
    "\n",
    "# Calculate the maximum expected profit for each state\n",
    "max_profits_each_state = {\n",
    "    state: max(profits[state].values()) for state in profits\n",
    "}\n",
    "\n",
    "print(\"Max profits for each demand\")\n",
    "print(max_profits_each_state)\n",
    "# Expected Profit with Perfect Information (EPI)\n",
    "EPI = sum(probabilities[state] * max_profit for state, max_profit in max_profits_each_state.items())\n",
    "\n",
    "# Expected Profit without Perfect Information (ENI) - given as 65.225\n",
    "ENI = 65.225\n",
    "\n",
    "EVPI = EPI - ENI\n",
    "print(f\"EPI: {EPI:.4f}\")\n",
    "print(f\"EVPI = EPI - ENI: {EVPI:.4f}\")\n",
    "\n"
   ]
  }
 ],
 "metadata": {
  "kernelspec": {
   "display_name": "Python 3",
   "language": "python",
   "name": "python3"
  },
  "language_info": {
   "codemirror_mode": {
    "name": "ipython",
    "version": 3
   },
   "file_extension": ".py",
   "mimetype": "text/x-python",
   "name": "python",
   "nbconvert_exporter": "python",
   "pygments_lexer": "ipython3",
   "version": "3.11.3"
  }
 },
 "nbformat": 4,
 "nbformat_minor": 2
}
