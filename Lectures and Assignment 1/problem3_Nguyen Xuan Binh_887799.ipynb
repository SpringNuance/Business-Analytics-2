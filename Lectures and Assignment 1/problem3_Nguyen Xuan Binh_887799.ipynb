{
 "cells": [
  {
   "cell_type": "code",
   "execution_count": 1,
   "metadata": {},
   "outputs": [
    {
     "data": {
      "text/plain": [
       "0.434"
      ]
     },
     "execution_count": 1,
     "metadata": {},
     "output_type": "execute_result"
    }
   ],
   "source": [
    "# Given probabilities\n",
    "P_defective = 0.7  # Probability that a flux capacitor is defective\n",
    "P_not_defective = 0.3  # Probability that a flux capacitor is not defective\n",
    "P_true_positive = 0.77  # Probability that the test declares a defective product as defective\n",
    "P_true_negative = 0.91  # Probability that the test declares a non-defective product as non-defective\n",
    "\n",
    "# We need to find the total probability that the test declares a flux capacitor as non-defective\n",
    "# This can be found by the Law of Total Probability, considering both cases where the capacitor is actually defective and non-defective\n",
    "\n",
    "# Probability that the test declares a flux capacitor does not have a defect when it is actually defective (False Negative)\n",
    "P_false_negative = 1 - P_true_positive\n",
    "\n",
    "# Total probability that the test declares a flux capacitor as non-defective\n",
    "P_test_non_defective = (P_defective * P_false_negative) + (P_not_defective * P_true_negative)\n",
    "\n",
    "P_test_non_defective\n"
   ]
  },
  {
   "cell_type": "code",
   "execution_count": 2,
   "metadata": {},
   "outputs": [
    {
     "data": {
      "text/plain": [
       "0.04770318021201412"
      ]
     },
     "execution_count": 2,
     "metadata": {},
     "output_type": "execute_result"
    }
   ],
   "source": [
    "# Given probabilities\n",
    "P_defective = 0.7  # Probability that a flux capacitor is defective\n",
    "P_not_defective = 0.3  # Probability that a flux capacitor is not defective\n",
    "P_true_positive = 0.77  # Probability that the test declares a defective product as defective\n",
    "\n",
    "# We want to find the probability that a flux capacitor is actually not defective given that it did not pass the test\n",
    "# This is a conditional probability that can be found using Bayes' theorem\n",
    "\n",
    "# First, find the probability that the test declares a flux capacitor as defective (either correctly or as a false positive)\n",
    "P_test_defective = (P_defective * P_true_positive) + (P_not_defective * (1 - P_true_negative))\n",
    "\n",
    "# Now, apply Bayes' theorem to find the conditional probability\n",
    "# We want to find P(Not Defective | Test Defective), which is equal to\n",
    "# P(Test Defective | Not Defective) * P(Not Defective) / P(Test Defective)\n",
    "\n",
    "# Probability that the test declares a non-defective product as defective (False Positive)\n",
    "P_false_positive = 1 - P_true_negative\n",
    "\n",
    "# Now apply Bayes' theorem to find the conditional probability\n",
    "P_not_defective_given_test_defective = (P_false_positive * P_not_defective) / P_test_defective\n",
    "\n",
    "P_not_defective_given_test_defective\n"
   ]
  },
  {
   "cell_type": "code",
   "execution_count": 3,
   "metadata": {},
   "outputs": [
    {
     "data": {
      "text/plain": [
       "0.6290322580645161"
      ]
     },
     "execution_count": 3,
     "metadata": {},
     "output_type": "execute_result"
    }
   ],
   "source": [
    "# Given probabilities from the previous context\n",
    "P_defective = 0.7  # Probability that a flux capacitor is defective\n",
    "P_not_defective = 0.3  # Probability that a flux capacitor is not defective\n",
    "P_true_negative = 0.91  # Probability that the test declares a non-defective product as non-defective\n",
    "\n",
    "# Probability that a capacitor is non-defective given that it passed the test can be found using Bayes' theorem\n",
    "\n",
    "# First, we calculate the probability of a capacitor passing the test, which we already calculated: P_test_non_defective\n",
    "P_test_non_defective = (P_defective * (1 - P_true_positive)) + (P_not_defective * P_true_negative)\n",
    "\n",
    "# Now, apply Bayes' theorem to find the probability of a capacitor being non-defective given that it passed the test\n",
    "# We want to find P(Non-Defective | Test Non-Defective), which is equal to\n",
    "# P(Test Non-Defective | Non-Defective) * P(Non-Defective) / P(Test Non-Defective)\n",
    "\n",
    "P_non_defective_given_test_non_defective = (P_true_negative * P_not_defective) / P_test_non_defective\n",
    "\n",
    "P_non_defective_given_test_non_defective\n"
   ]
  }
 ],
 "metadata": {
  "kernelspec": {
   "display_name": "Python 3",
   "language": "python",
   "name": "python3"
  },
  "language_info": {
   "codemirror_mode": {
    "name": "ipython",
    "version": 3
   },
   "file_extension": ".py",
   "mimetype": "text/x-python",
   "name": "python",
   "nbconvert_exporter": "python",
   "pygments_lexer": "ipython3",
   "version": "3.11.3"
  }
 },
 "nbformat": 4,
 "nbformat_minor": 2
}
