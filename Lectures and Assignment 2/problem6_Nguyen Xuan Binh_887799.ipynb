{
 "cells": [
  {
   "cell_type": "markdown",
   "metadata": {},
   "source": [
    "Problem 2\n",
    "\n",
    "People tend to change previous probability estimates more slowly than warranted by new data. For instance, consider that you have two bags:  Bag A containing 30 white balls and 10 black balls and Bag B contains 30 black balls and 10 white balls. One of these bags is selected at random and from it five balls are drawn at random, replacing each ball back into the bag after it has been drawn. The result is that we find 4 white balls and one black. Typically people assess that the probability that the selected bag was Bag A is between 0.7 and 0.8.\n",
    "\n",
    "Show using Bayes’ theorem that the correct probability is approximately 0.96. HINT: The binomial distribution can help, but it is not necessary.\n",
    "\n",
    "Write your answer, using formulas and text"
   ]
  }
 ],
 "metadata": {
  "kernelspec": {
   "display_name": "Python 3",
   "language": "python",
   "name": "python3"
  },
  "language_info": {
   "codemirror_mode": {
    "name": "ipython",
    "version": 3
   },
   "file_extension": ".py",
   "mimetype": "text/x-python",
   "name": "python",
   "nbconvert_exporter": "python",
   "pygments_lexer": "ipython3",
   "version": "3.11.3"
  }
 },
 "nbformat": 4,
 "nbformat_minor": 2
}
