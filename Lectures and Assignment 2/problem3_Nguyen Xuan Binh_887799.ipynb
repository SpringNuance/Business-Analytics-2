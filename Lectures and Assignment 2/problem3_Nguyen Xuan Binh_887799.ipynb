{
 "cells": [
  {
   "cell_type": "markdown",
   "metadata": {},
   "source": [
    "Problem 2\n",
    "\n",
    "People tend to change previous probability estimates more slowly than warranted by new data. For instance, consider that you have two bags:  Bag A containing 30 white balls and 10 black balls and Bag B contains 30 black balls and 10 white balls. One of these bags is selected at random and from it five balls are drawn at random, replacing each ball back into the bag after it has been drawn. The result is that we find 4 white balls and one black. Typically people assess that the probability that the selected bag was Bag A is between 0.7 and 0.8.\n",
    "\n",
    "Show using Bayes’ theorem that the correct probability is approximately 0.96. HINT: The binomial distribution can help, but it is not necessary.\n",
    "\n",
    "Write your answer, using formulas and text"
   ]
  },
  {
   "cell_type": "markdown",
   "metadata": {},
   "source": [
    "We can define the variables as follows: \n",
    "Let A be the event that Bag A is chosen => P(A) is the probability of choosing Bag A.\n",
    "Let B be the event that Bag B is chosen => P(B) is the probability of choosing Bag B.\n",
    "Let X be the event that 4 white balls and 1 black ball are drawn.\n",
    "\n",
    "\n",
    "Since one of the bags is selected at random, we have\n",
    "\n",
    "P(A) = P(B) = 0.5.\n",
    "\n",
    "Now, we can calculate the probability of drawing 4 white and 1 black from each bag.\n",
    "\n",
    "For bag A: the probability of drawing 4 white and 1 black is\n",
    "\n",
    "P(X|A) = (30/40)^4 * (10/40) = 0.0791015625\n",
    "\n",
    "For Bag B, the probability of drawing 4 white and 1 black is\n",
    "\n",
    "P(X|B) = (30/40) * (10/40)^4 = 0.0029296875\n",
    "\n",
    "Now we can calculate P(X), which is the total probability of drawing 4 white balls and 1 black ball by law of total probability:\n",
    "\n",
    "P(X) = P(X|A) * P(A) + P(X|B) * P(B)\n",
    "P(X) = 0.0791015625 * 0.5 + 0.0029296875 * 0.5 \n",
    "P(X) = 0.041015625\n",
    "\n",
    "Finally, we can use Bayes' theorem to find P(A|X), the probability that bag A was chosen given that 4 white balls and 1 black ball were drawn:\n",
    "\n",
    "P(A|X) = (P(A) * P(X|A)) / P(X)\n",
    "​\n",
    "P(A|X) = (0.5 * 0.0791015625)/0.041015625 = 0.964285714 (answer)"
   ]
  },
  {
   "cell_type": "code",
   "execution_count": 7,
   "metadata": {},
   "outputs": [
    {
     "name": "stdout",
     "output_type": "stream",
     "text": [
      "0.0791015625\n",
      "0.0029296875\n",
      "0.041015625\n",
      "0.9642857142857143\n"
     ]
    }
   ],
   "source": [
    "print((30/40)**4 * (10/40))\n",
    "print((30/40) * (10/40) ** 4)\n",
    "print(0.0791015625 * 0.5 + 0.0029296875 * 0.5)\n",
    "print((0.5 * 0.0791015625)/0.041015625)"
   ]
  },
  {
   "cell_type": "code",
   "execution_count": 5,
   "metadata": {},
   "outputs": [
    {
     "data": {
      "text/plain": [
       "0.9642857142857143"
      ]
     },
     "execution_count": 5,
     "metadata": {},
     "output_type": "execute_result"
    }
   ],
   "source": [
    "# Initial probabilities of choosing each bag\n",
    "P_A = 0.5\n",
    "P_B = 0.5\n",
    "\n",
    "# Probability of drawing 4 white and 1 black from Bag A\n",
    "P_W_given_A = (30/40)**4 * (10/40)\n",
    "\n",
    "# Probability of drawing 4 white and 1 black from Bag B\n",
    "P_W_given_B = (10/40)**4 * (30/40)\n",
    "\n",
    "# Total probability of drawing 4 white and 1 black (using Law of Total Probability)\n",
    "P_W = P_W_given_A * P_A + P_W_given_B * P_B\n",
    "\n",
    "# Using Bayes' Theorem to find P(A|W)\n",
    "P_A_given_W = (P_W_given_A * P_A) / P_W\n",
    "P_A_given_W\n"
   ]
  }
 ],
 "metadata": {
  "kernelspec": {
   "display_name": "Python 3",
   "language": "python",
   "name": "python3"
  },
  "language_info": {
   "codemirror_mode": {
    "name": "ipython",
    "version": 3
   },
   "file_extension": ".py",
   "mimetype": "text/x-python",
   "name": "python",
   "nbconvert_exporter": "python",
   "pygments_lexer": "ipython3",
   "version": "3.11.3"
  }
 },
 "nbformat": 4,
 "nbformat_minor": 2
}
